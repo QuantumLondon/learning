{
 "metadata": {
  "language_info": {
   "codemirror_mode": {
    "name": "ipython",
    "version": 3
   },
   "file_extension": ".py",
   "mimetype": "text/x-python",
   "name": "python",
   "nbconvert_exporter": "python",
   "pygments_lexer": "ipython3",
   "version": "3.8.8"
  },
  "orig_nbformat": 4,
  "kernelspec": {
   "name": "python3",
   "display_name": "Python 3.8.8 64-bit ('QiskitDevenv': conda)"
  },
  "interpreter": {
   "hash": "5c2f5bfa8ea641a00df2d0821432cf7790cabd547c0e2c9d635dd75265bd49d6"
  }
 },
 "nbformat": 4,
 "nbformat_minor": 2,
 "cells": [
  {
   "cell_type": "code",
   "execution_count": 1,
   "metadata": {},
   "outputs": [],
   "source": [
    "from qiskit import QuantumCircuit, Aer, execute\n",
    "from qiskit.visualization import plot_histogram"
   ]
  },
  {
   "cell_type": "code",
   "execution_count": 2,
   "metadata": {},
   "outputs": [],
   "source": [
    "qc = QuantumCircuit(3)"
   ]
  },
  {
   "cell_type": "code",
   "execution_count": 3,
   "metadata": {},
   "outputs": [],
   "source": [
    "qasm_sim = Aer.get_backend('qasm_simulator')\n",
    "couple_map = [[0, 1], [1, 2]]\n",
    "job = execute(qc, backend=qasm_sim, shots=1024, coupling_map=couple_map)"
   ]
  },
  {
   "cell_type": "code",
   "execution_count": 4,
   "metadata": {},
   "outputs": [],
   "source": [
    "result = job.result()"
   ]
  },
  {
   "source": [
    "Explanation:\n",
    "- `Aer.get_backend('qasm_simulator')` is correct use of QASM simulator\n",
    "- linear coupling map is `[[0, 1], [1, 2]]`\n",
    "- `shots` is correct parameter for number of measures"
   ],
   "cell_type": "markdown",
   "metadata": {}
  },
  {
   "source": [
    "Correct answer $A$"
   ],
   "cell_type": "markdown",
   "metadata": {}
  }
 ]
}