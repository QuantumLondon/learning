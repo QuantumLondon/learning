{
 "metadata": {
  "language_info": {
   "codemirror_mode": {
    "name": "ipython",
    "version": 3
   },
   "file_extension": ".py",
   "mimetype": "text/x-python",
   "name": "python",
   "nbconvert_exporter": "python",
   "pygments_lexer": "ipython3",
   "version": "3.8.8"
  },
  "orig_nbformat": 4,
  "kernelspec": {
   "name": "python3",
   "display_name": "Python 3.8.8 64-bit ('QiskitDevenv': conda)"
  },
  "interpreter": {
   "hash": "5c2f5bfa8ea641a00df2d0821432cf7790cabd547c0e2c9d635dd75265bd49d6"
  }
 },
 "nbformat": 4,
 "nbformat_minor": 2,
 "cells": [
  {
   "cell_type": "code",
   "execution_count": 1,
   "metadata": {},
   "outputs": [],
   "source": [
    "from qiskit import BasicAer"
   ]
  },
  {
   "cell_type": "code",
   "execution_count": 2,
   "metadata": {},
   "outputs": [
    {
     "output_type": "execute_result",
     "data": {
      "text/plain": [
       "[<QasmSimulatorPy('qasm_simulator')>,\n",
       " <StatevectorSimulatorPy('statevector_simulator')>,\n",
       " <UnitarySimulatorPy('unitary_simulator')>]"
      ]
     },
     "metadata": {},
     "execution_count": 2
    }
   ],
   "source": [
    "BasicAer.backends()"
   ]
  },
  {
   "source": [
    "Correct answers: $A$, $C$, $D$"
   ],
   "cell_type": "markdown",
   "metadata": {}
  }
 ]
}